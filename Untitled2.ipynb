{
 "cells": [
  {
   "cell_type": "code",
   "execution_count": 1,
   "metadata": {},
   "outputs": [],
   "source": [
    "# from datetime import datetime\n",
    "from binance.client import Client\n",
    "import pandas as pd\n",
    "import statistics \n",
    "import matplotlib.pyplot as plt\n",
    "import sklearn\n",
    "from joblib import dump,load\n",
    "from sklearn.ensemble import RandomForestRegressor\n",
    "import numpy as np\n",
    "%load_ext line_profiler\n",
    "\n",
    "import grindfunc\n",
    "             \n",
    "variables_definition=[\n",
    "    {\"name\":\"minutes\",\"n_samples\":1,\"n_values\":10},\n",
    "    {\"name\":\"15minutes\",\"n_samples\":15,\"n_values\":1},\n",
    "    {\"name\":\"hours\",\"n_samples\":60,\"n_values\":1},\n",
    "    {\"name\":\"6hours\",\"n_samples\":360,\"n_values\":1},\n",
    "    ]\n",
    "\n",
    "target_definition={\"samples_from\":30, \"samples_to\":120, \"n_samples\":10}\n",
    "\n",
    "n_samples=0\n",
    "n_values=0\n",
    "for v in variables_definition:\n",
    "    v[\"offset_values\"]=n_values\n",
    "    v[\"offset_samples\"]=n_samples\n",
    "    n_samples=n_samples+v[\"n_samples\"]*v[\"n_values\"]\n",
    "    n_values=n_values+v[\"n_values\"]\n",
    "    \n",
    "values=list(range(n_values))\n"
   ]
  },
  {
   "cell_type": "code",
   "execution_count": 2,
   "metadata": {},
   "outputs": [
    {
     "name": "stdout",
     "output_type": "stream",
     "text": [
      "\n",
      "*** Profile printout saved to text file 'lprof0'. \n"
     ]
    }
   ],
   "source": [
    "%lprun -T lprof0 -f grindfunc.import_samples df=grindfunc.import_samples(\"2021-01-01\")"
   ]
  },
  {
   "cell_type": "code",
   "execution_count": null,
   "metadata": {},
   "outputs": [],
   "source": [
    "print(open('lprof0', 'r').read())"
   ]
  },
  {
   "cell_type": "code",
   "execution_count": 3,
   "metadata": {},
   "outputs": [
    {
     "name": "stdout",
     "output_type": "stream",
     "text": [
      "Importati  93497 valori da ['2021-01-01 00:00:00', 28923.630859375] a ['2021-03-07 01:05:00', 49175.05078125]\n",
      "Variabili 13\n",
      "Giorni 0.31\n",
      "Vampioni 445\n"
     ]
    }
   ],
   "source": [
    "\n",
    "h_samples=df.values.tolist()\n",
    "print(\"Importati \",len(h_samples),\"valori da\",h_samples[-1],\"a\",h_samples[0])\n",
    "print(\"Variabili\",n_values)\n",
    "print(\"Giorni\",grindfunc.twodec(n_samples/60/24))\n",
    "print(\"Vampioni\",n_samples)"
   ]
  },
  {
   "cell_type": "code",
   "execution_count": 4,
   "metadata": {},
   "outputs": [
    {
     "name": "stdout",
     "output_type": "stream",
     "text": [
      "Prepare to train model? y/ny\n"
     ]
    }
   ],
   "source": [
    "inpt=input(\"Prepare to train model? y/n\")\n",
    "if inpt ==\"y\":\n",
    "    pass\n",
    "\n",
    "datefrom=\"2021-01-01\"\n",
    "dateto=\"2021-01-03\"\n"
   ]
  },
  {
   "cell_type": "code",
   "execution_count": 5,
   "metadata": {},
   "outputs": [
    {
     "name": "stdout",
     "output_type": "stream",
     "text": [
      "100 shift  ['2021-01-01 09:05:00', 29086.80078125]\n",
      "200 shift  ['2021-01-01 10:45:00', 29266.490234375]\n",
      "300 shift  ['2021-01-01 12:25:00', 29416.4296875]\n",
      "400 shift  ['2021-01-01 14:05:00', 29441.619140625]\n",
      "500 shift  ['2021-01-01 15:45:00', 29125.390625]\n",
      "600 shift  ['2021-01-01 17:25:00', 29261.900390625]\n",
      "700 shift  ['2021-01-01 19:05:00', 28960.529296875]\n",
      "800 shift  ['2021-01-01 20:45:00', 29173.880859375]\n",
      "900 shift  ['2021-01-01 22:25:00', 29278.119140625]\n",
      "1000 shift  ['2021-01-02 00:05:00', 29224.640625]\n",
      "1100 shift  ['2021-01-02 01:45:00', 29349.349609375]\n",
      "1200 shift  ['2021-01-02 03:25:00', 29341.5703125]\n",
      "1300 shift  ['2021-01-02 05:05:00', 29424.8203125]\n",
      "1400 shift  ['2021-01-02 06:45:00', 29598.4609375]\n",
      "1500 shift  ['2021-01-02 08:25:00', 29784.359375]\n",
      "1600 shift  ['2021-01-02 10:05:00', 29559.369140625]\n",
      "1700 shift  ['2021-01-02 11:45:00', 29715.1796875]\n",
      "1800 shift  ['2021-01-02 13:25:00', 30753.75]\n",
      "1900 shift  ['2021-01-02 15:05:00', 31382.73046875]\n",
      "2000 shift  ['2021-01-02 16:45:00', 32600.140625]\n",
      "2100 shift  ['2021-01-02 18:25:00', 32662.73046875]\n",
      "2200 shift  ['2021-01-02 20:05:00', 32720.310546875]\n",
      "2300 shift  ['2021-01-02 21:45:00', 31612.509765625]\n"
     ]
    }
   ],
   "source": [
    "train_x, train_y = grindfunc.preparetrain(df,datefrom,dateto,variables_definition,target_definition)\n"
   ]
  },
  {
   "cell_type": "code",
   "execution_count": 6,
   "metadata": {},
   "outputs": [
    {
     "name": "stdout",
     "output_type": "stream",
     "text": [
      "100 shift  ['2021-01-01 09:05:00', 29086.80078125]\n",
      "200 shift  ['2021-01-01 10:45:00', 29266.490234375]\n",
      "300 shift  ['2021-01-01 12:25:00', 29416.4296875]\n",
      "400 shift  ['2021-01-01 14:05:00', 29441.619140625]\n",
      "500 shift  ['2021-01-01 15:45:00', 29125.390625]\n",
      "600 shift  ['2021-01-01 17:25:00', 29261.900390625]\n",
      "700 shift  ['2021-01-01 19:05:00', 28960.529296875]\n",
      "800 shift  ['2021-01-01 20:45:00', 29173.880859375]\n",
      "900 shift  ['2021-01-01 22:25:00', 29278.119140625]\n",
      "1000 shift  ['2021-01-02 00:05:00', 29224.640625]\n",
      "1100 shift  ['2021-01-02 01:45:00', 29349.349609375]\n",
      "1200 shift  ['2021-01-02 03:25:00', 29341.5703125]\n",
      "1300 shift  ['2021-01-02 05:05:00', 29424.8203125]\n",
      "1400 shift  ['2021-01-02 06:45:00', 29598.4609375]\n",
      "1500 shift  ['2021-01-02 08:25:00', 29784.359375]\n",
      "1600 shift  ['2021-01-02 10:05:00', 29559.369140625]\n",
      "1700 shift  ['2021-01-02 11:45:00', 29715.1796875]\n",
      "1800 shift  ['2021-01-02 13:25:00', 30753.75]\n",
      "1900 shift  ['2021-01-02 15:05:00', 31382.73046875]\n",
      "2000 shift  ['2021-01-02 16:45:00', 32600.140625]\n",
      "2100 shift  ['2021-01-02 18:25:00', 32662.73046875]\n",
      "2200 shift  ['2021-01-02 20:05:00', 32720.310546875]\n",
      "2300 shift  ['2021-01-02 21:45:00', 31612.509765625]\n",
      "\n",
      "*** Profile printout saved to text file 'lprof0'. \n"
     ]
    }
   ],
   "source": [
    "%lprun -T lprof0 -f grindfunc.preparetrain train_x, train_y = grindfunc.preparetrain(df,datefrom,dateto,variables_definition,target_definition)\n"
   ]
  },
  {
   "cell_type": "code",
   "execution_count": 9,
   "metadata": {},
   "outputs": [
    {
     "name": "stdout",
     "output_type": "stream",
     "text": [
      "[0, 1, 2, 3, 4, 5, 6, 7, 8, 9, 10, 11, 12]\n"
     ]
    }
   ],
   "source": [
    "values=list(range(n_values))\n",
    "print(values)\n",
    "samples=[]\n",
    "count=0\n",
    "for i in range(n_samples):\n",
    "    #print(\"preshift\",h_samples[-1])\n",
    "    samples.insert(0,h_samples[-1][1])\n",
    "    h_samples.pop(-1)"
   ]
  },
  {
   "cell_type": "code",
   "execution_count": 10,
   "metadata": {},
   "outputs": [
    {
     "name": "stdout",
     "output_type": "stream",
     "text": [
      "\n",
      "*** Profile printout saved to text file 'lprof0'. \n"
     ]
    }
   ],
   "source": [
    "%lprun -T lprof0 -f grindfunc.calculate_values grindfunc.calculate_values(samples,variables_definition,values)\n"
   ]
  },
  {
   "cell_type": "code",
   "execution_count": null,
   "metadata": {},
   "outputs": [],
   "source": [
    "inpt=input(\"Train model? y/n\")\n",
    "if inpt ==\"y\":\n",
    "    # Instantiate model with 1000 decision trees\n",
    "    rf = RandomForestRegressor(n_estimators = 100, random_state = 42)\n",
    "    # Train the model on training data\n",
    "    rf.fit(train_X, train_y);"
   ]
  },
  {
   "cell_type": "code",
   "execution_count": null,
   "metadata": {},
   "outputs": [],
   "source": [
    "real_prices=[]\n",
    "real_gains=[]\n",
    "predicted_gains=[]\n",
    "print(len(h_samples))\n",
    "print(h_samples[:3])\n",
    "h_samples.reverse()\n",
    "print(h_samples[:3])\n",
    "\n",
    "while(len(h_samples)-target_definition[\"samples_to\"]>0):\n",
    "    samples.pop(-1)\n",
    "    samples.insert(0,h_samples[0][1]) \n",
    "    real_prices.append(h_samples[0])\n",
    "    h_samples.pop(0)\n",
    "    calculate_values(samples, variables_definition,values)\n",
    "    X=np.array([values])\n",
    "    #print([row[0] for row in h_samples[:3]])\n",
    "    real_gains.append(get_target([row[1] for row in h_samples], target_definition))\n",
    "    predicted_gains.append(rf.predict(X)[0])\n",
    "    count+=1\n",
    "    if not count%10:\n",
    "        print(count,real_prices[-1],twodec(real_gains[-1]),twodec(predicted_gains[-1])) \n",
    "        z=input(\"cazus \")\n",
    "        if z != \"\":\n",
    "            break"
   ]
  },
  {
   "cell_type": "code",
   "execution_count": null,
   "metadata": {},
   "outputs": [],
   "source": [
    "# Calculate the absolute errors\n",
    "errors = predictions - test_y\n",
    "# Print out the mean absolute error (mae)\n",
    "print('Mean Absolute Error:', round(np.max(errors), 2), 'degrees.')\n",
    "print(errors)"
   ]
  },
  {
   "cell_type": "code",
   "execution_count": null,
   "metadata": {},
   "outputs": [],
   "source": [
    "plt.plot(test_y[:1000])\n",
    "plt.plot(errors[:1000])\n",
    "plt.show()"
   ]
  },
  {
   "cell_type": "code",
   "execution_count": null,
   "metadata": {},
   "outputs": [],
   "source": [
    "capital=1000\n",
    "invested=0\n",
    "capit=[]\n",
    "old_capital=capital\n",
    "for i in range(len(y)):\n",
    "    #print(i,int(h_samples[i]),y[i])\n",
    "    capit.append(old_capital)\n",
    "    if yy[i]>1.3 and invested==0:\n",
    "        opened=h_samples[i]\n",
    "        #print(i,\"\\tBUY\\t\",int(h_samples[i]),\"\\tCapital\\t\",int(capital))\n",
    "        invested=capital*(1-0.0075)\n",
    "        old_capital=capital\n",
    "        capital=0\n",
    "        old_time=i\n",
    "    if invested>0 and ((yy[i]<-.1 and invested*h_samples[i]/opened/old_capital>1.003) or ((i-old_time)>600 and invested*h_samples[i]/opened/old_capital>0.8 )):\n",
    "        capital=invested*h_samples[i]/opened\n",
    "        invested=0\n",
    "        gain=(capital-old_capital)/old_capital\n",
    "        #print(i,\"\\tSELL\\t\",int(h_samples[i]),\"\\tCapital\\t\",int(capital),\"\\tTime\\t\",i-old_time,\"\\t%\\t\",int(10000*(capital-old_capital)/old_capital)/100)\n",
    "\n",
    "print(int(capital)) \n",
    "#plt.yscale('log')\n",
    "plt.plot(capit)       "
   ]
  },
  {
   "cell_type": "code",
   "execution_count": null,
   "metadata": {},
   "outputs": [],
   "source": [
    "plt.plot(yy)"
   ]
  },
  {
   "cell_type": "code",
   "execution_count": null,
   "metadata": {},
   "outputs": [],
   "source": [
    "y=dfy.iloc[:,0]"
   ]
  },
  {
   "cell_type": "code",
   "execution_count": null,
   "metadata": {},
   "outputs": [],
   "source": [
    "plt.plot(y)"
   ]
  },
  {
   "cell_type": "code",
   "execution_count": null,
   "metadata": {},
   "outputs": [],
   "source": []
  }
 ],
 "metadata": {
  "kernelspec": {
   "display_name": "Python 3",
   "language": "python",
   "name": "python3"
  },
  "language_info": {
   "codemirror_mode": {
    "name": "ipython",
    "version": 3
   },
   "file_extension": ".py",
   "mimetype": "text/x-python",
   "name": "python",
   "nbconvert_exporter": "python",
   "pygments_lexer": "ipython3",
   "version": "3.7.6"
  }
 },
 "nbformat": 4,
 "nbformat_minor": 4
}
